{
 "cells": [
  {
   "cell_type": "code",
   "execution_count": 1,
   "id": "7c0d0354-4e24-427b-abc4-fc9a47527deb",
   "metadata": {},
   "outputs": [],
   "source": [
    "import numpy as np"
   ]
  },
  {
   "cell_type": "markdown",
   "id": "148b9584-1964-4e36-bb58-9b61a97a48cc",
   "metadata": {},
   "source": [
    "NumPy Arithmetic Array Operations"
   ]
  },
  {
   "cell_type": "raw",
   "id": "6bb41b65-4145-42fc-bfb8-036e9d9ee2d6",
   "metadata": {},
   "source": [
    "# NumPy Array Element-Wise Operations\n",
    "\n",
    "List of Arithmetic Operations\n",
    "Here's a list of various arithmetic operations along with their associated operators and built-in functions:\n",
    "\n",
    "Element-wise       Operation\tOperator Function\n",
    "Addition\t       +\t        add()\n",
    "Subtraction\t       -\t        subtract()\n",
    "Multiplication\t   *\t        multiply()\n",
    "Division\t       /\t        divide()\n",
    "Exponentiation\t   **\t        power()\n",
    "Modulus\t           %\t        mod()"
   ]
  },
  {
   "cell_type": "code",
   "execution_count": 3,
   "id": "49ef0a15-173c-4ee1-b0b8-d374a4471c72",
   "metadata": {},
   "outputs": [
    {
     "name": "stdout",
     "output_type": "stream",
     "text": [
      "Using the + operator: [ 3  7 11 15]\n",
      "Using the add() function: [ 3  7 11 15]\n"
     ]
    }
   ],
   "source": [
    "# Example\n",
    "\n",
    "first_array = np.array([1, 3, 5, 7])\n",
    "second_array = np.array([2, 4, 6, 8])\n",
    "\n",
    "# using the + operator\n",
    "result1 = first_array + second_array\n",
    "print(\"Using the + operator:\",result1) \n",
    "\n",
    "# using the add() function\n",
    "result2 = np.add(first_array, second_array)\n",
    "print(\"Using the add() function:\",result2) "
   ]
  },
  {
   "cell_type": "markdown",
   "id": "6cde3dd3-79ad-48fb-8e0a-8f12b7cfd013",
   "metadata": {},
   "source": [
    "Numpy Comparison/Logical Operations"
   ]
  },
  {
   "cell_type": "raw",
   "id": "f4ddad5c-2f56-4b12-9fde-63c51737d8c0",
   "metadata": {},
   "source": [
    "NumPy Comparison Operators\n",
    "NumPy provides various element-wise comparison operators that can compare the elements of two NumPy arrays.\n",
    "\n",
    "Here's a list of various comparison operators available in NumPy.\n",
    "\n",
    "Operators\t                     Descriptions\n",
    "< (less than)\t                 returns True if element of the first array is less than the second one\n",
    "<= (less than or equal to)\t     returns True if element of the first array is less than or equal to the second one\n",
    "> (greater than)\t             returns True if element of the first array is greater than the second one\n",
    ">= (greater than or equal to)\t returns True if element of the first array is greater than or equal to the second one\n",
    "== (equal to)\t                 returns True if the element of the first array is equal to the second one\n",
    "!= (not equal to)\t             returns True if the element of the first array is not equal to the second one"
   ]
  },
  {
   "cell_type": "code",
   "execution_count": 4,
   "id": "e2d927d7-490a-4dba-a933-a9b69f4f1c62",
   "metadata": {},
   "outputs": [
    {
     "name": "stdout",
     "output_type": "stream",
     "text": [
      "array1 < array2: [ True False False]\n",
      "array1 > array2: [False False  True]\n",
      "array1 == array2: [False  True False]\n"
     ]
    }
   ],
   "source": [
    "import numpy as np\n",
    "\n",
    "array1 = np.array([1, 2, 3])\n",
    "array2 = np.array([3, 2, 1])\n",
    "\n",
    "# less than operator\n",
    "result1 = array1 < array2\n",
    "print(\"array1 < array2:\",result1)    # Output: [ True False False]\n",
    "\n",
    "# greater than operator\n",
    "result2 = array1 > array2\n",
    "print(\"array1 > array2:\",result2)    # Output: [False False  True]\n",
    "\n",
    "# equal to operator\n",
    "result3 = array1 == array2\n",
    "print(\"array1 == array2:\",result3)    # Output: [False  True False]"
   ]
  },
  {
   "cell_type": "raw",
   "id": "295f02e0-c9fa-412b-9442-b7288917fdbd",
   "metadata": {},
   "source": [
    "NumPy Comparison Functions\n",
    "NumPy also provides built-in functions to perform all the comparison operations.\n",
    "\n",
    "For example, the less() function returns True if each element of the first array is less than the corresponding element in the second array.\n",
    "\n",
    "Here's a list of all built-in comparison functions.\n",
    "\n",
    "Functions\t                 Descriptions\n",
    "less()\t                     returns element-wise True if the first value is less than the second\n",
    "less_equal()\t             returns element-wise True if the first value is less than or equal to second\n",
    "greater()\t                 returns element-wise True if the first value is greater then second\n",
    "greater_equal()\t             returns element-wise True if the first value is greater than or equal to second\n",
    "equal()\t                     returns element-wise True if two values are equal\n",
    "not_equal()\t                 returns element-wise True if two values are not equal"
   ]
  },
  {
   "cell_type": "code",
   "execution_count": 5,
   "id": "b63c335b-f68c-4789-9777-e1c1c4c02845",
   "metadata": {},
   "outputs": [
    {
     "name": "stdout",
     "output_type": "stream",
     "text": [
      "Using less(): [ True False False]\n",
      "Using less_equal(): [ True  True False]\n",
      "Using greater(): [False False  True]\n",
      "Using greater_equal(): [False  True  True]\n",
      "Using equal(): [False  True False]\n",
      "Using not_equal(): [ True False  True]\n"
     ]
    }
   ],
   "source": [
    "import numpy as np\n",
    "\n",
    "array1 = np.array([9, 12, 21])\n",
    "array2 = np.array([21, 12, 9])\n",
    "\n",
    "# use of less()\n",
    "result = np.less(array1, array2)\n",
    "print(\"Using less():\",result)    # Output: [ True False False]\n",
    "\n",
    "# use of less_equal()\n",
    "result = np.less_equal(array1, array2)\n",
    "print(\"Using less_equal():\",result)     # Output: [ True  True False]\n",
    "\n",
    "# use of greater()\n",
    "result = np.greater(array1, array2)\n",
    "print(\"Using greater():\",result)    # Output: [False False  True]\n",
    "\n",
    "# use of greater_equal()\n",
    "result = np.greater_equal(array1, array2)\n",
    "print(\"Using greater_equal():\",result)    # Output: [False  True  True]\n",
    "\n",
    "# use of equal()\n",
    "result = np.equal(array1, array2)\n",
    "print(\"Using equal():\",result)    # Output: [False  True False]\n",
    "\n",
    "# use of not_equal()\n",
    "result = np.not_equal(array1, array2)\n",
    "print(\"Using not_equal():\",result)    # Output: [ True False  True]"
   ]
  }
 ],
 "metadata": {
  "kernelspec": {
   "display_name": "Python 3 (ipykernel)",
   "language": "python",
   "name": "python3"
  },
  "language_info": {
   "codemirror_mode": {
    "name": "ipython",
    "version": 3
   },
   "file_extension": ".py",
   "mimetype": "text/x-python",
   "name": "python",
   "nbconvert_exporter": "python",
   "pygments_lexer": "ipython3",
   "version": "3.10.8"
  }
 },
 "nbformat": 4,
 "nbformat_minor": 5
}
