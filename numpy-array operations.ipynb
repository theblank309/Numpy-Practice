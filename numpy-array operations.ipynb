{
 "cells": [
  {
   "cell_type": "code",
   "execution_count": 1,
   "id": "7c0d0354-4e24-427b-abc4-fc9a47527deb",
   "metadata": {},
   "outputs": [],
   "source": [
    "import numpy as np"
   ]
  },
  {
   "cell_type": "markdown",
   "id": "148b9584-1964-4e36-bb58-9b61a97a48cc",
   "metadata": {},
   "source": [
    "NumPy Arithmetic Array Operations"
   ]
  },
  {
   "cell_type": "raw",
   "id": "6bb41b65-4145-42fc-bfb8-036e9d9ee2d6",
   "metadata": {},
   "source": [
    "# NumPy Array Element-Wise Operations\n",
    "\n",
    "List of Arithmetic Operations\n",
    "Here's a list of various arithmetic operations along with their associated operators and built-in functions:\n",
    "\n",
    "Element-wise       Operation\tOperator Function\n",
    "Addition\t       +\t        add()\n",
    "Subtraction\t       -\t        subtract()\n",
    "Multiplication\t   *\t        multiply()\n",
    "Division\t       /\t        divide()\n",
    "Exponentiation\t   **\t        power()\n",
    "Modulus\t           %\t        mod()"
   ]
  },
  {
   "cell_type": "code",
   "execution_count": 3,
   "id": "49ef0a15-173c-4ee1-b0b8-d374a4471c72",
   "metadata": {},
   "outputs": [
    {
     "name": "stdout",
     "output_type": "stream",
     "text": [
      "Using the + operator: [ 3  7 11 15]\n",
      "Using the add() function: [ 3  7 11 15]\n"
     ]
    }
   ],
   "source": [
    "# Example\n",
    "\n",
    "first_array = np.array([1, 3, 5, 7])\n",
    "second_array = np.array([2, 4, 6, 8])\n",
    "\n",
    "# using the + operator\n",
    "result1 = first_array + second_array\n",
    "print(\"Using the + operator:\",result1) \n",
    "\n",
    "# using the add() function\n",
    "result2 = np.add(first_array, second_array)\n",
    "print(\"Using the add() function:\",result2) "
   ]
  }
 ],
 "metadata": {
  "kernelspec": {
   "display_name": "Python 3 (ipykernel)",
   "language": "python",
   "name": "python3"
  },
  "language_info": {
   "codemirror_mode": {
    "name": "ipython",
    "version": 3
   },
   "file_extension": ".py",
   "mimetype": "text/x-python",
   "name": "python",
   "nbconvert_exporter": "python",
   "pygments_lexer": "ipython3",
   "version": "3.10.8"
  }
 },
 "nbformat": 4,
 "nbformat_minor": 5
}
