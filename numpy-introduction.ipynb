{
 "cells": [
  {
   "cell_type": "code",
   "execution_count": 2,
   "id": "b70ecdfd-e493-43bd-a5d0-c787a0db1ad2",
   "metadata": {},
   "outputs": [],
   "source": [
    "import numpy as np"
   ]
  },
  {
   "cell_type": "markdown",
   "id": "01fdbf05-8483-41d3-a59a-e1c76e6a9db3",
   "metadata": {},
   "source": [
    "NumPy Array Creation"
   ]
  },
  {
   "cell_type": "code",
   "execution_count": 6,
   "id": "7dcdd40b-e6d1-4121-b7ec-c7032c2cd51d",
   "metadata": {},
   "outputs": [
    {
     "name": "stdout",
     "output_type": "stream",
     "text": [
      "[1 2 3 4 5]  |  <class 'numpy.ndarray'>\n"
     ]
    }
   ],
   "source": [
    "# We can create a NumPy array using a Python List\n",
    "\n",
    "list = [1,2,3,4,5]\n",
    "numpy_list = np.array(list)\n",
    "print(numpy_list, \" | \", type(numpy_list))"
   ]
  },
  {
   "cell_type": "code",
   "execution_count": 7,
   "id": "0e484f45-ee80-43d1-885f-c52dfc85dda4",
   "metadata": {},
   "outputs": [
    {
     "name": "stdout",
     "output_type": "stream",
     "text": [
      "[0. 0. 0. 0.]  |  <class 'numpy.ndarray'>\n"
     ]
    }
   ],
   "source": [
    "# The np.zeros() function allows us to create an array filled with all zeros\n",
    "\n",
    "array = np.zeros(4)\n",
    "print(array, \" | \", type(array))"
   ]
  },
  {
   "cell_type": "code",
   "execution_count": 10,
   "id": "1b6e7524-11fe-4b73-8082-9da1ad27997e",
   "metadata": {},
   "outputs": [
    {
     "name": "stdout",
     "output_type": "stream",
     "text": [
      "[0 1 2 3 4]  |  <class 'numpy.ndarray'>\n",
      "[1 3 5 7]  |  <class 'numpy.ndarray'>\n"
     ]
    }
   ],
   "source": [
    "# The np.arange() function returns an array with values within a specified interval\n",
    "\n",
    "# 1. create an array with values from 0 to 4\n",
    "array = np.arange(5)\n",
    "print(array, \" | \", type(array))\n",
    "\n",
    "# 2. create an array with values from 1 to 8 with a step of 2\n",
    "array = np.arange(1, 9, 2)\n",
    "print(array, \" | \", type(array))"
   ]
  },
  {
   "cell_type": "code",
   "execution_count": 17,
   "id": "6f7dfb4f-8d7d-40d3-b40e-f61b0465343f",
   "metadata": {},
   "outputs": [
    {
     "name": "stdout",
     "output_type": "stream",
     "text": [
      "[0.44004628 0.68230064 0.67010898 0.77394238 0.31288453]  |  <class 'numpy.ndarray'>\n",
      "[6 1 5 6 4]  |  <class 'numpy.ndarray'>\n"
     ]
    }
   ],
   "source": [
    "# The np.random.rand() function is used to create an array of random numbers.\n",
    "\n",
    "array = np.random.random(5)\n",
    "print(array, \" | \", type(array))\n",
    "\n",
    "array = np.random.randint(1,10,5)\n",
    "print(array, \" | \", type(array))"
   ]
  },
  {
   "cell_type": "code",
   "execution_count": 21,
   "id": "21b04fae-fdb7-4635-8d65-681fb261138f",
   "metadata": {},
   "outputs": [
    {
     "name": "stdout",
     "output_type": "stream",
     "text": [
      "[0.44004628 0.68230064 0.67010898 0.77394238 0.31288453]  |  <class 'numpy.ndarray'>\n"
     ]
    }
   ],
   "source": [
    "# To create an empty NumPy array, we use the np.empty() function.\n",
    "\n",
    "array = np.empty(5)\n",
    "print(array, \" | \", type(array))"
   ]
  },
  {
   "cell_type": "markdown",
   "id": "b2f4259c-66bf-44c1-820a-87990f8967eb",
   "metadata": {},
   "source": [
    "NumPy N-D Array Creation"
   ]
  },
  {
   "cell_type": "code",
   "execution_count": 24,
   "id": "c650c7ec-98e6-4eb2-a418-cb6644d27a0a",
   "metadata": {},
   "outputs": [
    {
     "name": "stdout",
     "output_type": "stream",
     "text": [
      "[[1 2 3 4]\n",
      " [5 6 7 8]]  |  <class 'numpy.ndarray'>  |  (2, 4)\n"
     ]
    }
   ],
   "source": [
    "# We can create a NumPy array using a Python List\n",
    "\n",
    "# create a 2D array with 2 rows and 4 columns\n",
    "array = np.array([[1, 2, 3, 4],\n",
    "                  [5, 6, 7, 8]])\n",
    "print(array, \" | \", type(array) , \" | \", array.shape)"
   ]
  },
  {
   "cell_type": "code",
   "execution_count": 26,
   "id": "738ff4e5-24ae-4d82-a284-4bb0c50c5591",
   "metadata": {},
   "outputs": [
    {
     "name": "stdout",
     "output_type": "stream",
     "text": [
      "[[0. 0. 0. 0.]\n",
      " [0. 0. 0. 0.]]  |  <class 'numpy.ndarray'>  |  (2, 4)\n"
     ]
    }
   ],
   "source": [
    "# The np.zeros() function allows us to create N-D arrays filled with all zeros. \n",
    "\n",
    "array = np.zeros((2,4))\n",
    "print(array, \" | \", type(array) , \" | \", array.shape)"
   ]
  },
  {
   "cell_type": "code",
   "execution_count": 27,
   "id": "e457562e-b636-49ab-8773-d207b71744b2",
   "metadata": {},
   "outputs": [
    {
     "name": "stdout",
     "output_type": "stream",
     "text": [
      "[[5 5 5 5]\n",
      " [5 5 5 5]]  |  <class 'numpy.ndarray'>  |  (2, 4)\n"
     ]
    }
   ],
   "source": [
    "# In NumPy, we can use the np.full() function to create a multidimensional array with a specified value.\n",
    "\n",
    "array = np.full((2,4),5)\n",
    "print(array, \" | \", type(array) , \" | \", array.shape)"
   ]
  },
  {
   "cell_type": "code",
   "execution_count": 31,
   "id": "0f0cc41f-f017-4e46-acaf-271f71da5a95",
   "metadata": {},
   "outputs": [
    {
     "name": "stdout",
     "output_type": "stream",
     "text": [
      "[[0.73945464 0.74320528 0.47910781 0.59419604]\n",
      " [0.7387578  0.37333711 0.04367394 0.16664246]]  |  <class 'numpy.ndarray'>  |  (2, 4)\n",
      "[[6 9 9 1]\n",
      " [7 4 8 7]]  |  <class 'numpy.ndarray'>  |  (2, 4)\n"
     ]
    }
   ],
   "source": [
    "# The np.random.rand() function is used to create an array of random numbers.\n",
    "\n",
    "array = np.random.rand(2,4)\n",
    "print(array, \" | \", type(array) , \" | \", array.shape)\n",
    "\n",
    "array = np.random.randint(1,10,(2,4))\n",
    "print(array, \" | \", type(array) , \" | \", array.shape)"
   ]
  },
  {
   "cell_type": "code",
   "execution_count": 32,
   "id": "72de60a9-da38-4f81-a5c4-15f93843ddec",
   "metadata": {},
   "outputs": [
    {
     "name": "stdout",
     "output_type": "stream",
     "text": [
      "[[0.09269583 0.329177   0.26522773 0.09196764]\n",
      " [0.82855745 0.98027936 0.16072105 0.01538527]]  |  <class 'numpy.ndarray'>  |  (2, 4)\n"
     ]
    }
   ],
   "source": [
    "# To create an empty N-D NumPy array, we use the np.empty() function.\n",
    "\n",
    "array = np.empty((2,4))\n",
    "print(array, \" | \", type(array) , \" | \", array.shape)"
   ]
  },
  {
   "cell_type": "code",
   "execution_count": null,
   "id": "882074dd-f73c-4438-a6f7-bf47790ac392",
   "metadata": {},
   "outputs": [],
   "source": []
  }
 ],
 "metadata": {
  "kernelspec": {
   "display_name": "Python 3 (ipykernel)",
   "language": "python",
   "name": "python3"
  },
  "language_info": {
   "codemirror_mode": {
    "name": "ipython",
    "version": 3
   },
   "file_extension": ".py",
   "mimetype": "text/x-python",
   "name": "python",
   "nbconvert_exporter": "python",
   "pygments_lexer": "ipython3",
   "version": "3.10.8"
  }
 },
 "nbformat": 4,
 "nbformat_minor": 5
}
