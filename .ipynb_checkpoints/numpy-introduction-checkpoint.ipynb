{
 "cells": [
  {
   "cell_type": "code",
   "execution_count": 2,
   "id": "b70ecdfd-e493-43bd-a5d0-c787a0db1ad2",
   "metadata": {},
   "outputs": [],
   "source": [
    "import numpy as np"
   ]
  },
  {
   "cell_type": "markdown",
   "id": "01fdbf05-8483-41d3-a59a-e1c76e6a9db3",
   "metadata": {},
   "source": [
    "NumPy Array Creation"
   ]
  },
  {
   "cell_type": "code",
   "execution_count": 6,
   "id": "7dcdd40b-e6d1-4121-b7ec-c7032c2cd51d",
   "metadata": {},
   "outputs": [
    {
     "name": "stdout",
     "output_type": "stream",
     "text": [
      "[1 2 3 4 5]  |  <class 'numpy.ndarray'>\n"
     ]
    }
   ],
   "source": [
    "# We can create a NumPy array using a Python List\n",
    "\n",
    "list = [1,2,3,4,5]\n",
    "numpy_list = np.array(list)\n",
    "print(numpy_list, \" | \", type(numpy_list))"
   ]
  },
  {
   "cell_type": "code",
   "execution_count": 7,
   "id": "0e484f45-ee80-43d1-885f-c52dfc85dda4",
   "metadata": {},
   "outputs": [
    {
     "name": "stdout",
     "output_type": "stream",
     "text": [
      "[0. 0. 0. 0.]  |  <class 'numpy.ndarray'>\n"
     ]
    }
   ],
   "source": [
    "# The np.zeros() function allows us to create an array filled with all zeros\n",
    "\n",
    "array = np.zeros(4)\n",
    "print(array, \" | \", type(array))"
   ]
  },
  {
   "cell_type": "code",
   "execution_count": 10,
   "id": "1b6e7524-11fe-4b73-8082-9da1ad27997e",
   "metadata": {},
   "outputs": [
    {
     "name": "stdout",
     "output_type": "stream",
     "text": [
      "[0 1 2 3 4]  |  <class 'numpy.ndarray'>\n",
      "[1 3 5 7]  |  <class 'numpy.ndarray'>\n"
     ]
    }
   ],
   "source": [
    "# The np.arange() function returns an array with values within a specified interval\n",
    "\n",
    "# 1. create an array with values from 0 to 4\n",
    "array = np.arange(5)\n",
    "print(array, \" | \", type(array))\n",
    "\n",
    "# 2. create an array with values from 1 to 8 with a step of 2\n",
    "array = np.arange(1, 9, 2)\n",
    "print(array, \" | \", type(array))"
   ]
  },
  {
   "cell_type": "code",
   "execution_count": 17,
   "id": "6f7dfb4f-8d7d-40d3-b40e-f61b0465343f",
   "metadata": {},
   "outputs": [
    {
     "name": "stdout",
     "output_type": "stream",
     "text": [
      "[0.44004628 0.68230064 0.67010898 0.77394238 0.31288453]  |  <class 'numpy.ndarray'>\n",
      "[6 1 5 6 4]  |  <class 'numpy.ndarray'>\n"
     ]
    }
   ],
   "source": [
    "# The np.random.rand() function is used to create an array of random numbers.\n",
    "\n",
    "array = np.random.random(5)\n",
    "print(array, \" | \", type(array))\n",
    "\n",
    "array = np.random.randint(1,10,5)\n",
    "print(array, \" | \", type(array))"
   ]
  }
 ],
 "metadata": {
  "kernelspec": {
   "display_name": "Python 3 (ipykernel)",
   "language": "python",
   "name": "python3"
  },
  "language_info": {
   "codemirror_mode": {
    "name": "ipython",
    "version": 3
   },
   "file_extension": ".py",
   "mimetype": "text/x-python",
   "name": "python",
   "nbconvert_exporter": "python",
   "pygments_lexer": "ipython3",
   "version": "3.10.8"
  }
 },
 "nbformat": 4,
 "nbformat_minor": 5
}
