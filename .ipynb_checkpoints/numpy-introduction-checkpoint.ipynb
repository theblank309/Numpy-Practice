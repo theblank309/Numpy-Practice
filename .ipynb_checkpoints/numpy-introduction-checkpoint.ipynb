{
 "cells": [
  {
   "cell_type": "code",
   "execution_count": 2,
   "id": "b70ecdfd-e493-43bd-a5d0-c787a0db1ad2",
   "metadata": {},
   "outputs": [],
   "source": [
    "import numpy as np"
   ]
  },
  {
   "cell_type": "markdown",
   "id": "01fdbf05-8483-41d3-a59a-e1c76e6a9db3",
   "metadata": {},
   "source": [
    "NumPy Array Creation"
   ]
  },
  {
   "cell_type": "code",
   "execution_count": 6,
   "id": "7dcdd40b-e6d1-4121-b7ec-c7032c2cd51d",
   "metadata": {},
   "outputs": [
    {
     "name": "stdout",
     "output_type": "stream",
     "text": [
      "[1 2 3 4 5]  |  <class 'numpy.ndarray'>\n"
     ]
    }
   ],
   "source": [
    "# We can create a NumPy array using a Python List\n",
    "\n",
    "list = [1,2,3,4,5]\n",
    "numpy_list = np.array(list)\n",
    "print(numpy_list, \" | \", type(numpy_list))"
   ]
  },
  {
   "cell_type": "raw",
   "id": "6bb60369-8d88-464d-a9b2-90f61f3874a0",
   "metadata": {},
   "source": [
    "# The np.zeros() function allows us to create an array filled with all zeros\n",
    "\n",
    "array = np.zeros(4)\n",
    "print(array, \" | \", type(array))"
   ]
  },
  {
   "cell_type": "code",
   "execution_count": 10,
   "id": "1b6e7524-11fe-4b73-8082-9da1ad27997e",
   "metadata": {},
   "outputs": [
    {
     "name": "stdout",
     "output_type": "stream",
     "text": [
      "[0 1 2 3 4]  |  <class 'numpy.ndarray'>\n",
      "[1 3 5 7]  |  <class 'numpy.ndarray'>\n"
     ]
    }
   ],
   "source": [
    "# The np.arange() function returns an array with values within a specified interval\n",
    "\n",
    "# 1. create an array with values from 0 to 4\n",
    "array = np.arange(5)\n",
    "print(array, \" | \", type(array))\n",
    "\n",
    "# 2. create an array with values from 1 to 8 with a step of 2\n",
    "array = np.arange(1, 9, 2)\n",
    "print(array, \" | \", type(array))"
   ]
  },
  {
   "cell_type": "code",
   "execution_count": 17,
   "id": "6f7dfb4f-8d7d-40d3-b40e-f61b0465343f",
   "metadata": {},
   "outputs": [
    {
     "name": "stdout",
     "output_type": "stream",
     "text": [
      "[0.44004628 0.68230064 0.67010898 0.77394238 0.31288453]  |  <class 'numpy.ndarray'>\n",
      "[6 1 5 6 4]  |  <class 'numpy.ndarray'>\n"
     ]
    }
   ],
   "source": [
    "# The np.random.rand() function is used to create an array of random numbers.\n",
    "\n",
    "array = np.random.random(5)\n",
    "print(array, \" | \", type(array))\n",
    "\n",
    "array = np.random.randint(1,10,5)\n",
    "print(array, \" | \", type(array))"
   ]
  },
  {
   "cell_type": "code",
   "execution_count": 21,
   "id": "21b04fae-fdb7-4635-8d65-681fb261138f",
   "metadata": {},
   "outputs": [
    {
     "name": "stdout",
     "output_type": "stream",
     "text": [
      "[0.44004628 0.68230064 0.67010898 0.77394238 0.31288453]  |  <class 'numpy.ndarray'>\n"
     ]
    }
   ],
   "source": [
    "# To create an empty NumPy array, we use the np.empty() function.\n",
    "\n",
    "array = np.empty(5)\n",
    "print(array, \" | \", type(array))"
   ]
  },
  {
   "cell_type": "markdown",
   "id": "b2f4259c-66bf-44c1-820a-87990f8967eb",
   "metadata": {},
   "source": [
    "NumPy N-D Array Creation"
   ]
  },
  {
   "cell_type": "code",
   "execution_count": 24,
   "id": "c650c7ec-98e6-4eb2-a418-cb6644d27a0a",
   "metadata": {},
   "outputs": [
    {
     "name": "stdout",
     "output_type": "stream",
     "text": [
      "[[1 2 3 4]\n",
      " [5 6 7 8]]  |  <class 'numpy.ndarray'>  |  (2, 4)\n"
     ]
    }
   ],
   "source": [
    "# We can create a NumPy array using a Python List\n",
    "\n",
    "# create a 2D array with 2 rows and 4 columns\n",
    "array = np.array([[1, 2, 3, 4],\n",
    "                  [5, 6, 7, 8]])\n",
    "print(array, \" | \", type(array) , \" | \", array.shape)"
   ]
  },
  {
   "cell_type": "code",
   "execution_count": 26,
   "id": "738ff4e5-24ae-4d82-a284-4bb0c50c5591",
   "metadata": {},
   "outputs": [
    {
     "name": "stdout",
     "output_type": "stream",
     "text": [
      "[[0. 0. 0. 0.]\n",
      " [0. 0. 0. 0.]]  |  <class 'numpy.ndarray'>  |  (2, 4)\n"
     ]
    }
   ],
   "source": [
    "# The np.zeros() function allows us to create N-D arrays filled with all zeros. \n",
    "\n",
    "array = np.zeros((2,4))\n",
    "print(array, \" | \", type(array) , \" | \", array.shape)"
   ]
  },
  {
   "cell_type": "code",
   "execution_count": 27,
   "id": "e457562e-b636-49ab-8773-d207b71744b2",
   "metadata": {},
   "outputs": [
    {
     "name": "stdout",
     "output_type": "stream",
     "text": [
      "[[5 5 5 5]\n",
      " [5 5 5 5]]  |  <class 'numpy.ndarray'>  |  (2, 4)\n"
     ]
    }
   ],
   "source": [
    "# In NumPy, we can use the np.full() function to create a multidimensional array with a specified value.\n",
    "\n",
    "array = np.full((2,4),5)\n",
    "print(array, \" | \", type(array) , \" | \", array.shape)"
   ]
  },
  {
   "cell_type": "code",
   "execution_count": 31,
   "id": "0f0cc41f-f017-4e46-acaf-271f71da5a95",
   "metadata": {},
   "outputs": [
    {
     "name": "stdout",
     "output_type": "stream",
     "text": [
      "[[0.73945464 0.74320528 0.47910781 0.59419604]\n",
      " [0.7387578  0.37333711 0.04367394 0.16664246]]  |  <class 'numpy.ndarray'>  |  (2, 4)\n",
      "[[6 9 9 1]\n",
      " [7 4 8 7]]  |  <class 'numpy.ndarray'>  |  (2, 4)\n"
     ]
    }
   ],
   "source": [
    "# The np.random.rand() function is used to create an array of random numbers.\n",
    "\n",
    "array = np.random.rand(2,4)\n",
    "print(array, \" | \", type(array) , \" | \", array.shape)\n",
    "\n",
    "array = np.random.randint(1,10,(2,4))\n",
    "print(array, \" | \", type(array) , \" | \", array.shape)"
   ]
  },
  {
   "cell_type": "code",
   "execution_count": 32,
   "id": "72de60a9-da38-4f81-a5c4-15f93843ddec",
   "metadata": {},
   "outputs": [
    {
     "name": "stdout",
     "output_type": "stream",
     "text": [
      "[[0.09269583 0.329177   0.26522773 0.09196764]\n",
      " [0.82855745 0.98027936 0.16072105 0.01538527]]  |  <class 'numpy.ndarray'>  |  (2, 4)\n"
     ]
    }
   ],
   "source": [
    "# To create an empty N-D NumPy array, we use the np.empty() function.\n",
    "\n",
    "array = np.empty((2,4))\n",
    "print(array, \" | \", type(array) , \" | \", array.shape)"
   ]
  },
  {
   "cell_type": "markdown",
   "id": "e8596b76-d048-4113-aa30-c09021ffcbca",
   "metadata": {},
   "source": [
    "NumPy Data Types"
   ]
  },
  {
   "cell_type": "raw",
   "id": "ce45b71c-1414-4928-a597-84a2a9fcc20a",
   "metadata": {},
   "source": [
    "NumPy offers a wider range of numerical data types than what is available in Python. Here's the list of most commonly used numeric data types in NumPy:\n",
    "\n",
    "1) int8, int16, int32, int64 - signed integer types with different bit sizes\n",
    "2) uint8, uint16, uint32, uint64 - unsigned integer types with different bit sizes\n",
    "3) float32, float64 - floating-point types with different precision levels\n",
    "4) complex64, complex128 - complex number types with different precision levels"
   ]
  },
  {
   "cell_type": "code",
   "execution_count": 35,
   "id": "84aa180f-61a0-434a-91fc-ce5d149a3ce2",
   "metadata": {},
   "outputs": [
    {
     "name": "stdout",
     "output_type": "stream",
     "text": [
      "[1 2 3 4 5]  |  int32\n"
     ]
    }
   ],
   "source": [
    "# Check Data Type of a NumPy Array\n",
    "\n",
    "array = np.array([1,2,3,4,5])\n",
    "print(array,\" | \", array.dtype)"
   ]
  },
  {
   "cell_type": "code",
   "execution_count": 39,
   "id": "a19f8351-b074-4f6c-adb0-4bd7a72fafde",
   "metadata": {},
   "outputs": [
    {
     "name": "stdout",
     "output_type": "stream",
     "text": [
      "[1 2 3]  |  int8\n"
     ]
    }
   ],
   "source": [
    "# In NumPy, we can create an array with a defined data type by passing the dtype parameter while calling the np.array() function.\n",
    "\n",
    "array = np.array([1,2,3], dtype='int8')\n",
    "print(array, \" | \", array.dtype)"
   ]
  },
  {
   "cell_type": "code",
   "execution_count": 42,
   "id": "cbc6d346-5a08-44cf-82b9-1d5cdd867c94",
   "metadata": {},
   "outputs": [
    {
     "name": "stdout",
     "output_type": "stream",
     "text": [
      "[1. 2. 3.]  |  float32\n"
     ]
    }
   ],
   "source": [
    "# In NumPy, we can convert the data type of an array using the astype() method.\n",
    "\n",
    "array = array.astype('float32')\n",
    "print(array, \" | \", array.dtype)"
   ]
  },
  {
   "cell_type": "markdown",
   "id": "cbc40b18-3ada-477f-a9a4-0183e4cd0ce0",
   "metadata": {},
   "source": [
    "NumPy Array Attributes"
   ]
  },
  {
   "cell_type": "raw",
   "id": "754f321f-d722-497d-b0ba-f3bd660562b2",
   "metadata": {},
   "source": [
    "Common NumPy Attributes\n",
    "Here are some of the commonly used NumPy attributes:\n",
    "\n",
    "Attributes\t| Description\n",
    "ndim\t    | returns number of dimension of the array\n",
    "size\t    | returns number of elements in the array\n",
    "dtype\t    | returns data type of elements in the array\n",
    "shape\t    | returns the size of the array in each dimension.\n",
    "itemsize\t| returns the size (in bytes) of each elements in the array\n",
    "data\t    | returns the buffer containing actual elements of the array in memory"
   ]
  },
  {
   "cell_type": "code",
   "execution_count": 50,
   "id": "c9c78a8d-a047-4048-bd06-f629b339347f",
   "metadata": {},
   "outputs": [
    {
     "name": "stdout",
     "output_type": "stream",
     "text": [
      "ndim:  2\n",
      "size:  6\n",
      "dtype:  int32\n",
      "shape:  (2, 3)\n",
      "itemsize:  4\n",
      "totalsize:  24\n",
      "data:  <memory at 0x0000021B40650450>\n"
     ]
    }
   ],
   "source": [
    "array = np.array([[2, 4, 6],\n",
    "                  [1, 3, 5]])\n",
    "\n",
    "print(\"ndim: \", array.ndim)\n",
    "print(\"size: \", array.size)\n",
    "print(\"dtype: \", array.dtype)\n",
    "print(\"shape: \", array.shape)\n",
    "print(\"itemsize: \", array.itemsize)\n",
    "# array is an array of 32-bit integers, so each element in this array uses only 4 bytes of memory. So, itemsize returns 4 as the size of each element.\n",
    "print(\"totalsize: \", array.itemsize * array.size)\n",
    "print(\"data: \", array.data)"
   ]
  },
  {
   "cell_type": "markdown",
   "id": "4e4053bb-1275-408f-b4a1-8b734c38bdca",
   "metadata": {},
   "source": [
    "Numpy Array Indexing"
   ]
  },
  {
   "cell_type": "code",
   "execution_count": 54,
   "id": "44e40d6d-3399-48f4-bbb1-268865c6a1f4",
   "metadata": {},
   "outputs": [
    {
     "name": "stdout",
     "output_type": "stream",
     "text": [
      "2th Element at 3nd Row: 6\n"
     ]
    }
   ],
   "source": [
    "# 2-D NumPy Array Indexing Single Element\n",
    "\n",
    "array = np.array([[1, 3, 5], \n",
    "                [7, 9, 2], \n",
    "                [4, 6, 8]])\n",
    "\n",
    "# selected Row 3 and column 2\n",
    "print(\"2th Element at 3nd Row:\", array[2,1])"
   ]
  },
  {
   "cell_type": "code",
   "execution_count": 57,
   "id": "439943dd-6c7e-4398-b011-5229e607dc48",
   "metadata": {},
   "outputs": [
    {
     "name": "stdout",
     "output_type": "stream",
     "text": [
      "Second Row: [7 9 2]\n",
      "Third Column: [5 2 8]\n"
     ]
    }
   ],
   "source": [
    "# Access Row or Column of 2D Array Using Indexing\n",
    "\n",
    "# create a 2D array \n",
    "array = np.array([[1, 3, 5], \n",
    "             [7, 9, 2], \n",
    "             [4, 6, 8]])\n",
    "\n",
    "print(\"Second Row:\", array[1, :])\n",
    "print(\"Third Column:\", array[:, 2])"
   ]
  },
  {
   "cell_type": "code",
   "execution_count": 64,
   "id": "8282eee8-0d0b-407b-8533-37967db63cb2",
   "metadata": {},
   "outputs": [
    {
     "name": "stdout",
     "output_type": "stream",
     "text": [
      "19\n",
      "Channel 1: [[ 1  2  3  4]\n",
      " [ 5  6  7  8]\n",
      " [ 9 10 11 12]]\n",
      "Row 2nd of Channel 1:  [5 6 7 8]\n",
      "Column 3rd of Channel 2:  [15 19 23]\n"
     ]
    }
   ],
   "source": [
    "# 3-D NumPy Array Indexing\n",
    "\n",
    "# create a 3D array with shape (2, 3, 4)\n",
    "array = np.array([[[1, 2, 3, 4], \n",
    "                   [5, 6, 7, 8], \n",
    "                   [9, 10, 11, 12]],\n",
    "                     \n",
    "                    [[13, 14, 15, 16], \n",
    "                    [17, 18, 19, 20], \n",
    "                    [21, 22, 23, 24]]])\n",
    "\n",
    "# Index of 19\n",
    "print(array[1,1,2])\n",
    "print(\"Channel 1:\", array[0,:,:])\n",
    "print(\"Row 2nd of Channel 1: \", array[0,1,:])\n",
    "print(\"Column 3rd of Channel 2: \", array[1,:,2])"
   ]
  },
  {
   "cell_type": "markdown",
   "id": "64b425ad-6977-4873-856d-155cd5afe2a7",
   "metadata": {},
   "source": [
    "NumPy Array Slicing"
   ]
  },
  {
   "cell_type": "raw",
   "id": "faf6a51b-c084-4263-998d-e746ad888f4b",
   "metadata": {},
   "source": [
    "Syntax of NumPy Array Slicing\n",
    "Here's the syntax of array slicing in NumPy:\n",
    "\n",
    "array[start:stop:step]\n",
    "\n",
    "Here,\n",
    "start - index of the first element to be included in the slice\n",
    "stop - index of the last element (exclusive)\n",
    "step - step size between each element in the slice"
   ]
  },
  {
   "cell_type": "code",
   "execution_count": 73,
   "id": "935a4029-f43c-48df-8906-66ea060daef0",
   "metadata": {},
   "outputs": [
    {
     "name": "stdout",
     "output_type": "stream",
     "text": [
      "Slice Element 4-10:  [ 4  6  8 10]\n",
      "Step Slicing:  [ 0  2  4  6  8 10 12 14 16]\n"
     ]
    }
   ],
   "source": [
    "# create a numpy array\n",
    "numbers = np.array([2, 4, 6, 8, 10, 12])\n",
    "print(\"Slice Element 4-10: \", numbers[1:5])\n",
    "\n",
    "numbers = np.arange(0,17)\n",
    "print(\"Step Slicing: \", numbers[::2])"
   ]
  },
  {
   "cell_type": "raw",
   "id": "4c24ff54-dccc-488e-ad6f-db7067bf4a64",
   "metadata": {},
   "source": [
    "Syntax of 2D NumPy Array Slicing\n",
    "array[row_start:row_stop:row_step, col_start:col_stop:col_step]\n",
    "\n",
    "Here,\n",
    "row_start,row_stop,row_step - specifies starting index, stopping index, and step size for the rows respectively\n",
    "col_start,col_stop,col_step - specifies starting index, stopping index, and step size for the columns respectively"
   ]
  },
  {
   "cell_type": "code",
   "execution_count": 78,
   "id": "806e8ae4-d698-41ad-90ff-422c39b4fb73",
   "metadata": {},
   "outputs": [
    {
     "name": "stdout",
     "output_type": "stream",
     "text": [
      "Sliced Array:  [[ 3  5]\n",
      " [11 13]]\n"
     ]
    }
   ],
   "source": [
    "# Create a 2D array\n",
    "array = np.array([[1, 3, 5, 7], \n",
    "                   [9, 11, 13, 15]])\n",
    "\n",
    "# Slice [3,5], [11,13]\n",
    "print(\"Sliced Array: \", array[:,1:3])"
   ]
  },
  {
   "cell_type": "markdown",
   "id": "514b72cb-347a-47f2-8685-a8ab046df5cf",
   "metadata": {},
   "source": [
    "NumPy Array Reshaping"
   ]
  },
  {
   "cell_type": "code",
   "execution_count": 80,
   "id": "157f852c-0309-40b6-b4b0-fc34a758137b",
   "metadata": {},
   "outputs": [
    {
     "name": "stdout",
     "output_type": "stream",
     "text": [
      "[[1 3 5 7]\n",
      " [2 4 6 8]]  | Org Shape:  (8,)  | New Shape:  (2, 4)\n"
     ]
    }
   ],
   "source": [
    "# Reshape 1D Array to 2D Array in NumPy\n",
    "\n",
    "array = np.array([1, 3, 5, 7, 2, 4, 6, 8])\n",
    "result = np.reshape(array, (2, 4))\n",
    "print(result, \" | Org Shape: \", array.shape, \" | New Shape: \", result.shape)"
   ]
  },
  {
   "cell_type": "code",
   "execution_count": 81,
   "id": "8cdb02be-4b02-4de3-a89a-aa261d343eff",
   "metadata": {},
   "outputs": [
    {
     "name": "stdout",
     "output_type": "stream",
     "text": [
      "Flattened 2D array: [ 1  3  5  7  9 11]\n",
      "Flattened 3D array: [1 3 5 7 2 4 6 8]\n"
     ]
    }
   ],
   "source": [
    "# Flatten N-d Array to 1-D Array Using reshape()\n",
    "\n",
    "# flatten 2D array to 1D\n",
    "array1 = np.array([[1, 3], [5, 7], [9, 11]])\n",
    "result1 = np.reshape(array1, -1)\n",
    "print(\"Flattened 2D array:\", result1)\n",
    "\n",
    "# flatten 3D array to 1D\n",
    "array2 = np.array([[[1, 3], [5, 7]], [[2, 4], [6, 8]]])\n",
    "result2 = np.reshape(array2, -1)\n",
    "print(\"Flattened 3D array:\", result2)"
   ]
  }
 ],
 "metadata": {
  "kernelspec": {
   "display_name": "Python 3 (ipykernel)",
   "language": "python",
   "name": "python3"
  },
  "language_info": {
   "codemirror_mode": {
    "name": "ipython",
    "version": 3
   },
   "file_extension": ".py",
   "mimetype": "text/x-python",
   "name": "python",
   "nbconvert_exporter": "python",
   "pygments_lexer": "ipython3",
   "version": "3.10.8"
  }
 },
 "nbformat": 4,
 "nbformat_minor": 5
}
